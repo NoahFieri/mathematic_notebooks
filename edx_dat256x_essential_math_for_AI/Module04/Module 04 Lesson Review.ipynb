{
 "cells": [
  {
   "cell_type": "markdown",
   "metadata": {},
   "source": [
    "# Module 04 - Lesson 01 Review"
   ]
  },
  {
   "cell_type": "code",
   "execution_count": 18,
   "metadata": {},
   "outputs": [
    {
     "name": "stdout",
     "output_type": "stream",
     "text": [
      "178.5147619047619\n",
      "178.75\n",
      "1.5389204626868134\n"
     ]
    },
    {
     "data": {
      "image/png": "[encoded data removed]",
      "text/plain": [
       "<Figure size 432x288 with 1 Axes>"
      ]
     },
     "metadata": {},
     "output_type": "display_data"
    }
   ],
   "source": [
    "import pandas as pd\n",
    "\n",
    "df = pd.DataFrame({'Values': [180.5, 178.8, 176.2, 177.1, 178.75, 179.25, 175.4, 178.2, 177.25, 177.5, \n",
    "                              179.9, 180.8, 177.75, 179.5, 179.25, 178.5, 178.8, 178.5, 176.5, 178.76,\n",
    "                              181.6]})\n",
    "\n",
    "print(df['Values'].mean())\n",
    "print(df['Values'].median())\n",
    "print(df['Values'].std())\n",
    "\n",
    "%matplotlib inline\n",
    "import matplotlib.pyplot as plt\n",
    "import scipy.stats as stats\n",
    "\n",
    "\n",
    "values = df['Values']\n",
    "density = stats.gaussian_kde(values)\n",
    "n, x, _ = plt.hist(values, histtype='step', density=True)  \n",
    "plt.plot(x, density(x)*21)\n",
    "plt.axvline(values.mean(), color='magenta', linestyle='dashed', linewidth=2)\n",
    "plt.axvline(values.median(), color='green', linestyle='dashed', linewidth=2)\n",
    "plt.show()\n"
   ]
  },
  {
   "cell_type": "code",
   "execution_count": null,
   "metadata": {},
   "outputs": [],
   "source": []
  }
 ],
 "metadata": {
  "kernelspec": {
   "display_name": "Python 3",
   "language": "python",
   "name": "python3"
  },
  "language_info": {
   "codemirror_mode": {
    "name": "ipython",
    "version": 3
   },
   "file_extension": ".py",
   "mimetype": "text/x-python",
   "name": "python",
   "nbconvert_exporter": "python",
   "pygments_lexer": "ipython3",
   "version": "3.6.6"
  }
 },
 "nbformat": 4,
 "nbformat_minor": 2
}
