{
 "cells": [
  {
   "cell_type": "markdown",
   "metadata": {},
   "source": [
    "# Probability  \n",
    "\n",
    "## Definition:  \n",
    "\n",
    "* **Random** phenomenon: cannot be predicted with certainty in advance.\n",
    "* **Outcome:** single observed result of random phenomenon.\n",
    "* **Sample sapce:** set of all possible outcomes.\n",
    "* **Empty set:** set containing no outcomes.\n",
    "* **Event:** subset of sample space.\n",
    "* The **probability** of an event is a number $0 \\le p \\le 1$ that describes how likely it is that the event occurs.\n",
    "    * An event of probability $1$ will happen for sure.\n",
    "    * An event of probability $0$ will certainly not happen.\n",
    "    \n",
    "$$\n",
    "P(S) = 1 \\text{, as the sample space includes all possibilities.} \\\\\n",
    "P(\\emptyset) = 0 \\text{, as } \\emptyset \\text{ contains no possibilities}.\n",
    "$$\n",
    "\n",
    "* Some probabilities can be calculated, others can be found experimentally as long run proportions.\n",
    "* They can be added, provided they are disjoint (mutually exclusive)."
   ]
  },
  {
   "cell_type": "markdown",
   "metadata": {},
   "source": [
    "#### <font color=red>Example:</font>\n",
    "The probability that a random student obtains grades in MATH223 are:\n",
    "\n",
    "|   F   |   P   |   C   |   D   |   HD   |\n",
    "|-------|-------|-------|-------|--------|\n",
    "|  0.2  |  0.35 |  0.2  |  0.15 |   0.1  | \n",
    "\n",
    "Let $E$ denote the event ${C, D, HD}$ (\"credit or better\")\n",
    "\n",
    "$$\n",
    "P(E) = 0.2 + 0.15 + 0.1  = 0.45\n",
    "$$\n",
    "\n",
    "This is valid because events ${C}$, ${D}$, and ${HD}$ are disjoint (non-overlapping).\n",
    "\n",
    "* If all outcomes are equally likely, the:\n",
    "\n",
    "$$\n",
    "P(A) = \\frac{|A|}{|S|} \\text{, where } |X| \\text{ is the number of outcomes in set } X\n",
    "$$\n",
    "\n",
    "#### <font color=red>Example:</font>  \n",
    "A coin is tossed twice. THe sequence of heads and tails is recorded as $S = {HH, HT, TH, TT}$. Let $E = {HH, TT}$ denote the event \"same result for both tosses.\" Since all 4 outcomes have equal probability.\n",
    "\n",
    "$$\n",
    "P(E) = \\frac{|A|}{|S|} = \\frac{2}{4} = \\frac{1}{2}\n",
    "$$\n",
    "\n",
    "#### <font color=red>Exercise:</font>  \n",
    "2 fair dice are rolled. What is the probability that the sum of faces is 4?\n",
    "\n",
    "<font color=red>A:</font> \n",
    "\n",
    "\n",
    "|  -  |       1      |       2      |       3      |       4      |       5      |       6      |    Total    |\n",
    "|-----|--------------|--------------|--------------|--------------|--------------|--------------|-------------|  \n",
    "|**1**|$\\frac{1}{36}$|$\\frac{1}{36}$|$\\frac{1}{36}$|$\\frac{1}{36}$|$\\frac{1}{36}$|$\\frac{1}{36}$|$\\frac{1}{6}$|\n",
    "|**2**|$\\frac{1}{36}$|$\\frac{1}{36}$|$\\frac{1}{36}$|$\\frac{1}{36}$|$\\frac{1}{36}$|$\\frac{1}{36}$|$\\frac{1}{6}$|\n",
    "|**3**|$\\frac{1}{36}$|$\\frac{1}{36}$|$\\frac{1}{36}$|$\\frac{1}{36}$|$\\frac{1}{36}$|$\\frac{1}{36}$|$\\frac{1}{6}$|\n",
    "|**4**|$\\frac{1}{36}$|$\\frac{1}{36}$|$\\frac{1}{36}$|$\\frac{1}{36}$|$\\frac{1}{36}$|$\\frac{1}{36}$|$\\frac{1}{6}$|\n",
    "|**5**|$\\frac{1}{36}$|$\\frac{1}{36}$|$\\frac{1}{36}$|$\\frac{1}{36}$|$\\frac{1}{36}$|$\\frac{1}{36}$|$\\frac{1}{6}$|\n",
    "|**6**|$\\frac{1}{36}$|$\\frac{1}{36}$|$\\frac{1}{36}$|$\\frac{1}{36}$|$\\frac{1}{36}$|$\\frac{1}{36}$|$\\frac{1}{6}$|\n",
    "|**Total**|$\\frac{1}{6}$ |$\\frac{1}{6}$ |$\\frac{1}{6}$ |$\\frac{1}{6}$ |$\\frac{1}{6}$ |$\\frac{1}{6}$ |  $ 1 $  |\n",
    "\n",
    "All 36 events have equal probability, and 3 of them meet our needs. \n",
    "\n",
    "$$\n",
    "\\begin{align*}\n",
    "& \\text{Let } B={(1,3), (2,2), (3,1)}. \\\\\n",
    "~ \\\\\n",
    "& \\text{Then, } \\\\\n",
    "~ \\\\\n",
    "& P(B) = \\frac{|B|}{|S|} = \\frac{3}{36} = \\frac{1}{12}\n",
    "\\end{align*}\n",
    "$$\n"
   ]
  },
  {
   "cell_type": "markdown",
   "metadata": {},
   "source": [
    "## Venn Diagrams  \n",
    "\n",
    "* A **Venn Diagram** represents the sample space and all events.\n",
    "* Probabilities are represented as areas.\n"
   ]
  },
  {
   "cell_type": "code",
   "execution_count": 18,
   "metadata": {},
   "outputs": [
    {
     "data": {
      "text/plain": [
       "<matplotlib_venn._common.VennDiagram at 0x7f5a9891cf28>"
      ]
     },
     "execution_count": 18,
     "metadata": {},
     "output_type": "execute_result"
    },
    {
     "data": {
      "image/png": "[encoded data removed]",
      "text/plain": [
       "<Figure size 432x288 with 1 Axes>"
      ]
     },
     "metadata": {},
     "output_type": "display_data"
    }
   ],
   "source": [
    "%matplotlib inline\n",
    "from matplotlib_venn import venn2\n",
    "venn2(subsets = (0.3, 0.2, 0.1))"
   ]
  },
  {
   "cell_type": "markdown",
   "metadata": {},
   "source": [
    "### Complement  \n",
    "\n",
    "* The complement of $A$, denoted by $A^{C}$ or $\\bar{A}$, is the set of all outcomes not in $A$.\n",
    "\n",
    "    $P(\\bar{A}) = 1 - P(A)$\n",
    "\n",
    "<img src=\"./img/probability_2.png\" width=\"35%\">"
   ]
  },
  {
   "cell_type": "markdown",
   "metadata": {},
   "source": [
    "### Intersection  \n",
    "\n",
    "* The intersection $A \\cap B$ is the event that both $A$ and $B$ occur.\n",
    "\n",
    "    $P(A \\cap B) = P(A) \\times P(B)$\n",
    "\n",
    "<img src=\"./img/probability_3.png\" width=\"35%\">\n"
   ]
  },
  {
   "cell_type": "markdown",
   "metadata": {},
   "source": [
    "### Union  \n",
    "\n",
    "* The union $A \\cup B$ is the event that $A$ or $B$ (or both) occurs.\n",
    "\n",
    "    $P(A \\cup B) = P(A) + P(B) - P(A \\cap B)$\n",
    "    \n",
    "<img src=\"./img/probability_4.png\" width=\"35%\">"
   ]
  },
  {
   "cell_type": "markdown",
   "metadata": {},
   "source": [
    "### Disjoint  \n",
    "\n",
    "* Two events $A$ and $B$ are **disjoint** (cannot occur simultaneously) if $A \\cap B = \\emptyset$\n",
    "\n",
    "* For disjoint events $A$ and $B$.\n",
    "\n",
    "    $P(A \\cup B) = P(A) + P(B)$\n",
    "    $P(A \\cap B) = 0$\n",
    "    \n",
    "<img src=\"./img/probability_5.png\" width=\"35%\">"
   ]
  },
  {
   "cell_type": "markdown",
   "metadata": {},
   "source": [
    "## Conditional Probability  \n",
    "\n",
    "* The conditional probability of event $A$ given that $B$ has occured is denoted by $P(A|B)$. \n",
    "* In general (disjoint or not), \n",
    "\n",
    "    $P(A \\cap B) = P(B)P(A|B) = P(A)P(B|A)$\n",
    "\n",
    "* That is for $A$ and $B$ both to happen, one event happens, and then given that, the other one happens.\n",
    "* This gives us a formula for conditional probability:\n",
    "\n",
    "$$\n",
    "P(A|B) = \\frac{P(A \\cap B)}{P(B)}\n",
    "$$"
   ]
  },
  {
   "cell_type": "markdown",
   "metadata": {},
   "source": [
    "#### <font color=red>Exercise:</font>  \n",
    "What is the probability of $A$(\"doubles\") given $B$(sum of 2 dice is 4)?\n",
    "\n",
    "<font color=red>A:</font>\n",
    "\n",
    "For a double to occur, $A$(\"doubles\") has to occur and $B$(sum of 2 dice is 4) has to occur.\n",
    "\n",
    "$A\\text{(\"doubles\")} = \\frac{6}{36}$   \n",
    "$B\\text{(sum of 2 dice is 4)} = \\frac{3}{36} = \\frac{1}{12}$   \n",
    "\n",
    "$P(A \\cap B) = P(A) \\times P(B) = \\frac{1}{36}$  \n",
    "    \n",
    "$P(A|B) = \\frac{P(A \\cap B)}{P(B)} = \\frac{\\frac{1}{36}}{\\frac{3}{36}} = \\frac{1}{36}$\n",
    "    "
   ]
  },
  {
   "cell_type": "markdown",
   "metadata": {},
   "source": [
    "### Probability Rules  \n",
    "\n",
    "$$\n",
    "\\begin{align}\n",
    "& \\textbf{(1) } P(S) = 1 \\text{, } P(\\emptyset) = 0  \\\\\n",
    "& \\textbf{(2) } P(E) \\ge 0 \\text{ for any event } E \\subseteq S  \\\\\n",
    "& \\textbf{(3) } \\text{If } A \\cap B = \\emptyset \\text{, then } P(A \\cup B) = P(A) + P(B)  \\\\\n",
    "& \\textbf{(4) } P(A \\cup B) = P(A) + P(B) - P(A \\cap B)  \\\\\n",
    "& \\textbf{(5) } P(\\bar{A}) = 1 - P(A)  \\\\\n",
    "& \\textbf{(6) } P(A \\cap B) = P(A)P(B|A) = P(B)P(A|B)  \\\\ \n",
    "\\end{align}\n",
    "$$\n",
    "\n",
    "A **two-way table** presents probabilities of all possible intersections.\n",
    "\n",
    "|       -        | $\\text{B}$          | $\\bar{B}$                | $\\text{TOTAL}$ |\n",
    "|----------------|---------------------|--------------------------|----------------|\n",
    "| $\\text{A}$     | $P(A \\cap B)$       | $P(A \\cap \\bar{B})$      | $P(A)$         |\n",
    "| $\\bar{A}$      | $P(\\bar{A} \\cap B)$ | $P(\\bar{A} \\cap \\bar{B}$ | $P(\\bar{A})$   |\n",
    "| $\\text{TOTAL}$ | $P(B)$              | $P(\\bar{B}) $            | 1              |\n"
   ]
  },
  {
   "cell_type": "markdown",
   "metadata": {},
   "source": [
    "#### <font color=red>Example:</font>\n",
    "\n",
    "Using the previous Venn diagram:\n",
    "\n",
    "| -             | $\\text{B}$ | $\\bar{B}$ | $\\text{TOTAL}$ |\n",
    "|---------------|------------|-----------|----------------|\n",
    "| $\\text{A}$    | $0.1$      | $0.4$     | $0.5$          |\n",
    "| $\\bar{A}$     | $0.2$      | $0.3$     | $0.5$          |\n",
    "| $\\text{TOTAL}$| $0.3$      | $0.7$     | $1$            |\n",
    "\n",
    "<img src=\"./img/probability_6.png\" width=\"30%\">\n",
    "\n",
    "$$\n",
    "\\begin{align*}\n",
    "\n",
    "\\end{align*}\n",
    "$$"
   ]
  },
  {
   "cell_type": "markdown",
   "metadata": {},
   "source": []
  }
 ],
 "metadata": {
  "kernelspec": {
   "display_name": "Python 3",
   "language": "python",
   "name": "python3"
  },
  "language_info": {
   "codemirror_mode": {
    "name": "ipython",
    "version": 3
   },
   "file_extension": ".py",
   "mimetype": "text/x-python",
   "name": "python",
   "nbconvert_exporter": "python",
   "pygments_lexer": "ipython3",
   "version": "3.6.6"
  }
 },
 "nbformat": 4,
 "nbformat_minor": 2
}
