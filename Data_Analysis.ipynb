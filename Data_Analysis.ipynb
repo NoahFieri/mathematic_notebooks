{
 "cells": [
  {
   "cell_type": "markdown",
   "metadata": {},
   "source": [
    "# Data Analysis  \n",
    "\n",
    "* Observations are usually recorded in a rectangular array (spreadsheets), with one *row* for each observed unit, one *column* for each variable recorded.\n",
    "\n",
    "| Name  | Gender  | Age |\n",
    "|-------|---------|-----|\n",
    "| Harry | Male    | 20  |\n",
    "| Sally | Female  | 18  |\n",
    "\n",
    "## Types of Data  \n",
    "\n",
    "* Data can be of different types:\n",
    "    * **Categorical (Nominal/Ordinal):** \n",
    "        * **Nominal** measurements involve unordered categories, e.g. gender.\n",
    "        * **Ordinal** measurements involve ordered categories, e.g. age.\n",
    "    * **Quantitative (Interval/Ratio):** \n",
    "        * **Interval** measurements include those where differences have meaning, e.g. temperature.\n",
    "        * **Ratio** measures include those where differences and ratios do not have any meaning, e.g. weight.\n",
    "    * **Discrete:** if all possible values are seperate points on a number line, the measurement is *discrete,* e.g. number of emails.\n",
    "    \n",
    "    \n",
    "    \n",
    "    * **Continuous:**\n"
   ]
  }
 ],
 "metadata": {
  "kernelspec": {
   "display_name": "Python 3",
   "language": "python",
   "name": "python3"
  },
  "language_info": {
   "codemirror_mode": {
    "name": "ipython",
    "version": 3
   },
   "file_extension": ".py",
   "mimetype": "text/x-python",
   "name": "python",
   "nbconvert_exporter": "python",
   "pygments_lexer": "ipython3",
   "version": "3.6.6"
  }
 },
 "nbformat": 4,
 "nbformat_minor": 2
}
